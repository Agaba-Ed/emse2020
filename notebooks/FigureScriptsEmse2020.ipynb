{
 "cells": [
  {
   "cell_type": "markdown",
   "metadata": {
    "collapsed": true,
    "pycharm": {
     "name": "#%% md\n"
    }
   },
   "source": [
    "Use these scripts to generate the figures in the manuscript"
   ]
  },
  {
   "cell_type": "code",
   "execution_count": 2,
   "outputs": [],
   "source": [
    "import pandas as pd\n",
    "from openpyxl import load_workbook\n",
    "from pandas import DataFrame\n",
    "import matplotlib.pyplot as plt\n",
    "import numpy as np"
   ],
   "metadata": {
    "collapsed": false,
    "pycharm": {
     "name": "#%%\n"
    }
   }
  },
  {
   "cell_type": "markdown",
   "source": [
    "Fig 3"
   ],
   "metadata": {
    "collapsed": false,
    "pycharm": {
     "name": "#%% md\n"
    }
   }
  },
  {
   "cell_type": "code",
   "execution_count": null,
   "outputs": [],
   "source": [
    "df = pd.ExcelFile(\"Dataset.xlsx\")\n",
    "df.sheet_names\n",
    "dfAll = df.parse(\"Fig3\")\n",
    "dfAll.columns\n",
    "plt.style.use('classic')\n",
    "df_fam1 = DataFrame({'count' : dfAll.groupby( ['MLV'] ).size()}).reset_index()\n",
    "df_fam1['count'] = df_fam1['count'] +1\n",
    "# print(df_fam1['count'].sort_values().head(10))\n",
    "df22 = dfAll.groupby(['MLV']).size().reset_index(name='counts')\n",
    "df22 = df22.set_index('counts')\n",
    "df22 = df22.groupby(['counts']).size().reset_index(name='numbers')\n",
    "df22['counts'] =df22['counts'] + 1\n",
    "print(df22)\n",
    "plt.xlabel('Family-Size', fontsize=18)\n",
    "plt.ylabel('Number of families',fontsize=18)\n",
    "plt.minorticks_on()\n",
    "plt.grid(True, which='major', color='#2F4F4F')\n",
    "plt.grid(True, which='minor', color='#DCDCDC')\n",
    "plt.bar(df22['counts'],df22['numbers'], color='#008080')\n",
    "plt.xlim(1,7)\n",
    "plt.tight_layout()\n",
    "plt.savefig('img/variants.pdf')\n",
    "plt.show()"
   ],
   "metadata": {
    "collapsed": false,
    "pycharm": {
     "name": "#%%\n"
    }
   }
  },
  {
   "cell_type": "markdown",
   "source": [
    "Fig 4a"
   ],
   "metadata": {
    "collapsed": false,
    "pycharm": {
     "name": "#%% md\n"
    }
   }
  },
  {
   "cell_type": "code",
   "execution_count": null,
   "outputs": [],
   "source": [
    "dfCat = pd.ExcelFile(\"Dataset.xlsx\")\n",
    "dfCat.sheet_names\n",
    "\n",
    "dfCatP = dfCat.parse(\"Fig4a\")\n",
    "dfCatP.columns\n",
    "\n",
    "plt.style.use('classic')\n",
    "dfCatP1 = dfCatP.groupby(['Categories']).size().reset_index(name='counts')\n",
    "dfCatP1\n",
    "print(dfCatP1)\n",
    "plt.style.use('classic')\n",
    "slices = [dfCatP1.iloc[1,1], dfCatP1.iloc[0,1]]\n",
    "labels = ('Different', 'Same')\n",
    "colors=['#008080','#DC143C']\n",
    "explode = [0, 0.1]\n",
    "plt.pie(slices, labels=labels, textprops={'fontsize': 20}, colors=colors, explode=explode, autopct='%1.1f%%', startangle=90, wedgeprops={'edgecolor': 'black'})\n",
    "plt.tight_layout()\n",
    "plt.savefig('img/CategoryPieP.pdf')\n",
    "plt.show()"
   ],
   "metadata": {
    "collapsed": false,
    "pycharm": {
     "name": "#%%\n"
    }
   }
  },
  {
   "cell_type": "markdown",
   "source": [
    "Fig 4b"
   ],
   "metadata": {
    "collapsed": false,
    "pycharm": {
     "name": "#%% md\n"
    }
   }
  },
  {
   "cell_type": "code",
   "execution_count": null,
   "outputs": [],
   "source": [
    "dfCat = pd.ExcelFile(\"Dataset.xlsx\")\n",
    "dfCat.sheet_names\n",
    "\n",
    "dfCatF = dfCat.parse(\"Fig4b\")\n",
    "dfCatF.columns\n",
    "\n",
    "dfCatF1 = dfCatF.groupby(['Categories']).size().reset_index(name='counts')\n",
    "dfCatF1\n",
    "print(dfCatF1)\n",
    "plt.style.use('classic')\n",
    "slices = [dfCatF1.iloc[0,1], dfCatF1.iloc[1,1], dfCatF1.iloc[2,1]]\n",
    "labels = ('Same', 'Different', 'Some Different')\n",
    "colors = ['#6A5ACD', '#006400','#FF4500']\n",
    "explode = [0, 0.1, 0.1]\n",
    "plt.pie(slices, labels=labels, textprops={'fontsize': 18}, colors=colors, explode=explode, autopct='%1.1f%%', startangle=90, wedgeprops={'edgecolor': 'black'})\n",
    "plt.tight_layout()\n",
    "plt.savefig('img/CategoryPieF.pdf')\n",
    "plt.show()"
   ],
   "metadata": {
    "collapsed": false,
    "pycharm": {
     "name": "#%%\n"
    }
   }
  },
  {
   "cell_type": "markdown",
   "source": [
    "Fig 5a"
   ],
   "metadata": {
    "collapsed": false,
    "pycharm": {
     "name": "#%% md\n"
    }
   }
  },
  {
   "cell_type": "code",
   "execution_count": null,
   "outputs": [],
   "source": [
    "dfComp = pd.ExcelFile(\"Dataset.xlsx\")\n",
    "dfComp.sheet_names\n",
    "dfComp = dfComp.parse(\"Fig5a\")\n",
    "dfComp.columns\n",
    "dfComp = dfComp.groupby(['Company']).size().reset_index(name='counts')\n",
    "print(dfComp)\n",
    "plt.style.use('classic')\n",
    "slices = [dfComp.iloc[1,1], dfComp.iloc[0,1]]\n",
    "labels = ('Same', 'Different')\n",
    "colors=['#4169E1','#556B2F']\n",
    "\n",
    "explode = [0, 0.1]\n",
    "plt.pie(slices, labels=labels, textprops={'fontsize': 18}, colors=colors, explode=explode, autopct='%1.1f%%', startangle=90, wedgeprops={'edgecolor': 'black'})\n",
    "plt.tight_layout()\n",
    "plt.savefig('img/devs.pdf')\n",
    "plt.show()"
   ],
   "metadata": {
    "collapsed": false,
    "pycharm": {
     "name": "#%%\n"
    }
   }
  },
  {
   "cell_type": "markdown",
   "source": [
    "Fig 5b"
   ],
   "metadata": {
    "collapsed": false,
    "pycharm": {
     "name": "#%% md\n"
    }
   }
  },
  {
   "cell_type": "code",
   "execution_count": null,
   "outputs": [],
   "source": [
    "dfComp = pd.ExcelFile(\"Dataset.xlsx\")\n",
    "dfComp.sheet_names\n",
    "dfComp = dfComp.parse(\"Fig5b\")\n",
    "dfComp.columns\n",
    "dfComp = dfComp.groupby(['Company']).size().reset_index(name='counts')\n",
    "print(dfComp)\n",
    "\n",
    "plt.style.use('classic')\n",
    "slices = [dfComp.iloc[0,1], dfComp.iloc[1,1], dfComp.iloc[2,1]]\n",
    "labels = ('Same', 'Different', 'Some Different')\n",
    "colors = ['#DC143C', '#1E90FF','#008080']\n",
    "explode = [0, 0.1, 0.1]\n",
    "plt.pie(slices, labels=labels, textprops={'fontsize': 20}, colors=colors, explode=explode, autopct='%1.1f%%', startangle=90, wedgeprops={'edgecolor': 'black'})\n",
    "plt.tight_layout()\n",
    "plt.savefig('img/devsPie.pdf')\n",
    "plt.show()"
   ],
   "metadata": {
    "collapsed": false,
    "pycharm": {
     "name": "#%%\n"
    }
   }
  },
  {
   "cell_type": "markdown",
   "source": [
    "Fig 6a"
   ],
   "metadata": {
    "collapsed": false,
    "pycharm": {
     "name": "#%% md\n"
    }
   }
  },
  {
   "cell_type": "code",
   "execution_count": null,
   "outputs": [],
   "source": [
    "df = pd.ExcelFile(\"Dataset.xlsx\")\n",
    "df.sheet_names\n",
    "\n",
    "df = df.parse(\"Fig6a\")\n",
    "df.columns\n",
    "\n",
    "plt.style.use('classic')\n",
    "x1 = range(1,len(df['MLV'])+1)\n",
    "y_d = df['Downloads'].sort_values(ascending=False)\n",
    "\n",
    "plt.plot(x1, y_d, color='#377eb8', label='DownloadsMLV', linewidth=2, marker='o')\n",
    "plt.grid(True)\n",
    "plt.yscale('log')\n",
    "plt.xlim(0,40)\n",
    "plt.ylim(0,10000000)\n",
    "plt.xlabel('Mainline Variant Number', fontsize=18)\n",
    "plt.ylabel('Number of Downloads', fontsize=18)\n",
    "# Put a legend below current axis\n",
    "plt.legend(fontsize=18, loc=\"upper right\")\n",
    "plt.tight_layout()\n",
    "plt.savefig('img/DownsMLV.pdf')\n",
    "plt.show()"
   ],
   "metadata": {
    "collapsed": false,
    "pycharm": {
     "name": "#%%\n"
    }
   }
  },
  {
   "cell_type": "markdown",
   "source": [
    "Fig 6b"
   ],
   "metadata": {
    "collapsed": false,
    "pycharm": {
     "name": "#%% md\n"
    }
   }
  },
  {
   "cell_type": "code",
   "execution_count": null,
   "outputs": [],
   "source": [
    "df = pd.ExcelFile(\"Dataset.xlsx\")\n",
    "df.sheet_names\n",
    "\n",
    "df = df.parse(\"Fig6b&e\")\n",
    "df.columns\n",
    "\n",
    "x2 = range(1,len(dfAll['Downloads_Mainline'])+1)\n",
    "y1 = dfAll['Downloads_Mainline']\n",
    "y2 = dfAll['Downloads_Fork'].sort_values(ascending=False)\n",
    "\n",
    "# plt.plot(x2, y1, color='#377eb8', label='Downloads_mainline', linewidth=2, marker='o')\n",
    "plt.plot(x2, y2, color='#006400', label='DownloadsFV', linewidth=2, marker='o')\n",
    "plt.yscale('log')\n",
    "plt.grid(True)\n",
    "plt.xlim(0,55)\n",
    "plt.ylim(0,10000000)\n",
    "plt.xlabel('Fork variant number', fontsize=18)\n",
    "plt.ylabel('Number of Downloads', fontsize=18)\n",
    "plt.legend(fontsize=18, loc=\"upper right\")\n",
    "plt.tight_layout()\n",
    "plt.savefig('img/DownsFV.pdf')\n",
    "plt.show()"
   ],
   "metadata": {
    "collapsed": false,
    "pycharm": {
     "name": "#%%\n"
    }
   }
  },
  {
   "cell_type": "markdown",
   "source": [
    "Fig 6c"
   ],
   "metadata": {
    "collapsed": false,
    "pycharm": {
     "name": "#%% md\n",
     "is_executing": true
    }
   },
   "outputs": [
    {
     "ename": "SyntaxError",
     "evalue": "invalid syntax (<ipython-input-4-6cc5f5e7a158>, line 1)",
     "output_type": "error",
     "traceback": [
      "\u001B[0;36m  File \u001B[0;32m\"<ipython-input-4-6cc5f5e7a158>\"\u001B[0;36m, line \u001B[0;32m1\u001B[0m\n\u001B[0;31m    Fig 6b\u001B[0m\n\u001B[0m        ^\u001B[0m\n\u001B[0;31mSyntaxError\u001B[0m\u001B[0;31m:\u001B[0m invalid syntax\n"
     ]
    }
   ]
  },
  {
   "cell_type": "code",
   "execution_count": null,
   "outputs": [],
   "source": [
    "df = pd.ExcelFile(\"Dataset.xlsx\")\n",
    "df.sheet_names\n",
    "\n",
    "df = df.parse(\"Fig6c\")\n",
    "df.columns\n",
    "\n",
    "x1 = range(1,len(df['MLV'])+1)\n",
    "#y_d = df['Downloads_Mainline']\n",
    "y_r = df['TotalReviewsMLV'].sort_values(ascending=False) +1\n",
    "plt.plot(x1, y_r, color='#4169E1', label='ReviewsMLV', linewidth=2, marker='o')\n",
    "plt.grid(True)\n",
    "plt.yscale('log')\n",
    "plt.ylim(0,1000000)\n",
    "plt.xlabel('Mainline Variant Number', fontsize=18)\n",
    "plt.ylabel('Number of Reviews', fontsize=18)\n",
    "# Put a legend below current axis\n",
    "plt.legend(fontsize=18, loc=\"upper center\")\n",
    "\n",
    "plt.tight_layout()\n",
    "plt.savefig('img/ReviewsMLV.pdf')\n",
    "plt.show()"
   ],
   "metadata": {
    "collapsed": false,
    "pycharm": {
     "name": "#%%\n"
    }
   }
  },
  {
   "cell_type": "markdown",
   "source": [
    "Fig 6d"
   ],
   "metadata": {
    "collapsed": false,
    "pycharm": {
     "name": "#%% md\n"
    }
   }
  },
  {
   "cell_type": "code",
   "execution_count": null,
   "outputs": [],
   "source": [
    "df = pd.ExcelFile(\"Dataset.xlsx\")\n",
    "df.sheet_names\n",
    "\n",
    "df = df.parse(\"Fig6d&f\")\n",
    "df.columns\n",
    "\n",
    "x2 = range(1,len(df['TotalReviewsFV'])+1)\n",
    "y1 = df['TotalReviewsMLV'] +0.001\n",
    "y2 = df['TotalReviewsFV'].sort_values(ascending=False) +0.1\n",
    "\n",
    "# plt.plot(x2, y1, color='#4169E1', label='Mainline Reviews', linewidth=2, marker='o')\n",
    "plt.plot(x2, y2, color='#008080', label='ReviewsFV', linewidth=2, marker='o')\n",
    "plt.yscale('log')\n",
    "plt.grid(True)\n",
    "plt.xlim(0,55)\n",
    "plt.ylim(0,1000000)\n",
    "plt.xlabel('Fork Variant Number', fontsize=18)\n",
    "plt.ylabel('Number of Reviews', fontsize=18)\n",
    "plt.legend(fontsize=18, loc=\"upper center\")\n",
    "plt.tight_layout()\n",
    "plt.savefig('img/ReviewsFV.pdf')\n",
    "plt.show()"
   ],
   "metadata": {
    "collapsed": false,
    "pycharm": {
     "name": "#%%\n"
    }
   }
  },
  {
   "cell_type": "markdown",
   "source": [
    "Fig 6e"
   ],
   "metadata": {
    "collapsed": false,
    "pycharm": {
     "name": "#%% md\n"
    }
   }
  },
  {
   "cell_type": "code",
   "execution_count": null,
   "outputs": [],
   "source": [
    "df = pd.ExcelFile(\"Dataset.xlsx\")\n",
    "df.sheet_names\n",
    "\n",
    "df = df.parse(\"Fig6b&e\")\n",
    "df.columns\n",
    "\n",
    "x2 = range(1,len(dfAll['Downloads_Mainline'])+1)\n",
    "dfAll = dfAll.sort_values(by = ['Downloads_Mainline'], ascending=False)\n",
    "y1 = dfAll['Downloads_Mainline']\n",
    "y2 = dfAll['Downloads_Fork']\n",
    "\n",
    "plt.plot(x2, y1, color='#377eb8', label='DownloadsMLV', linewidth=2, marker='o')\n",
    "plt.plot(x2, y2, color='#006400', label='DownloadsFV', linewidth=2, marker='o')\n",
    "plt.yscale('log')\n",
    "plt.grid(True)\n",
    "plt.xlim(0,55)\n",
    "plt.xlabel('Mainline-Fork Pair Number', fontsize=18)\n",
    "plt.ylabel('Number of Downloads', fontsize=18)\n",
    "plt.legend(fontsize=18, loc=\"upper right\")\n",
    "plt.tight_layout()\n",
    "plt.savefig('img/DownsMLV-FV.pdf')\n",
    "plt.show()"
   ],
   "metadata": {
    "collapsed": false,
    "pycharm": {
     "name": "#%%\n"
    }
   }
  },
  {
   "cell_type": "markdown",
   "source": [
    "Fig 6f"
   ],
   "metadata": {
    "collapsed": false,
    "pycharm": {
     "name": "#%% md\n"
    }
   }
  },
  {
   "cell_type": "code",
   "execution_count": null,
   "outputs": [],
   "source": [
    "df = pd.ExcelFile(\"Dataset.xlsx\")\n",
    "df.sheet_names\n",
    "\n",
    "df = df.parse(\"Fig6d&f\")\n",
    "df.columns\n",
    "\n",
    "x2 = range(1,len(df['TotalReviewsFV'])+1)\n",
    "df = df.sort_values(by = ['TotalReviewsMLV'], ascending=False)\n",
    "y1 = df['TotalReviewsMLV']\n",
    "y2 = df['TotalReviewsFV'] +0.1\n",
    "\n",
    "plt.plot(x2, y1, color='#4169E1', label='ReviewsMLV', linewidth=2, marker='o')\n",
    "plt.plot(x2, y2, color='#008080', label='ReviewsFV', linewidth=2, marker='o')\n",
    "plt.yscale('log')\n",
    "plt.grid(True)\n",
    "plt.xlim(0,55)\n",
    "plt.xlabel('Mainline-Fork Pair Number', fontsize=18)\n",
    "plt.ylabel('Number of Reviews', fontsize=18)\n",
    "plt.legend(fontsize=18, loc=\"upper center\")\n",
    "\n",
    "plt.tight_layout()\n",
    "plt.savefig('img/ReviewsMLV-FV.pdf')\n",
    "plt.show()"
   ],
   "metadata": {
    "collapsed": false,
    "pycharm": {
     "name": "#%%\n"
    }
   }
  },
  {
   "cell_type": "markdown",
   "source": [
    "Fig 7a"
   ],
   "metadata": {
    "collapsed": false,
    "pycharm": {
     "name": "#%% md\n"
    }
   }
  },
  {
   "cell_type": "code",
   "execution_count": null,
   "outputs": [],
   "source": [
    "import seaborn as sns\n",
    "\n",
    "dfBoxPlot = pd.ExcelFile(\"Dataset.xlsx\")\n",
    "\n",
    "dfBoxPlot.sheet_names\n",
    "\n",
    "dfBoxPlot = dfBoxPlot.parse('Fig7a-7c')\n",
    "dfBoxPlot.columns\n",
    "labels = ['Files']\n",
    "df1 = dfBoxPlot['Unique-files']\n",
    "\n",
    "df1.columns = labels\n",
    "colors = [\"#e41a1c\",\"#377eb8\",\"#4daf4a\",\"#984ea3\", \"#ff7f00\", \"#ffff33\"]\n",
    "\n",
    "bplot = sns.boxplot(data=df1, width=0.5)\n",
    "for i in range(0,1):\n",
    "    mybox = bplot.artists[i]\n",
    "    mybox.set_facecolor(colors[i+1])\n",
    "\n",
    "plt.yscale('log')\n",
    "plt.grid(True, which='major', color='#DCDCDC')\n",
    "#plt.xlabel(\"\", fontsize=20)\n",
    "plt.ylabel(\"Number of Files\", fontsize=20)\n",
    "plt.xticks([0], [''])\n",
    "plt.tight_layout()\n",
    "plt.savefig('img/FilesUnique.pdf')\n",
    "plt.show()"
   ],
   "metadata": {
    "collapsed": false,
    "pycharm": {
     "name": "#%%\n"
    }
   }
  },
  {
   "cell_type": "markdown",
   "source": [
    "Fig 7b"
   ],
   "metadata": {
    "collapsed": false,
    "pycharm": {
     "name": "#%% md\n"
    }
   }
  },
  {
   "cell_type": "code",
   "execution_count": null,
   "outputs": [],
   "source": [
    "import seaborn as sns\n",
    "\n",
    "dfBoxPlot = pd.ExcelFile(\"Dataset.xlsx\")\n",
    "\n",
    "dfBoxPlot.sheet_names\n",
    "\n",
    "dfBoxPlot = dfBoxPlot.parse('Fig7a-7c')\n",
    "dfBoxPlot.columns\n",
    "labels = ['Java','Layout','Resources','Manifest','Gradle','Readme','Others']\n",
    "df1 = dfBoxPlot[['Java-U','Layout-U','Other_Res-U','manifest-U', 'Gradle-U' , 'readme-U', 'others-U']]\n",
    "\n",
    "df1.columns = labels\n",
    "colors = [\"#e41a1c\",\"#377eb8\",\"#4daf4a\",\"#984ea3\", \"#ff7f00\", \"#ffff33\", \"#a65628\"]\n",
    "\n",
    "bplot = sns.boxplot(x=\"variable\", y=\"value\", data=pd.melt(df1), width=0.8)\n",
    "for i in range(0,7):\n",
    "    mybox = bplot.artists[i]\n",
    "    mybox.set_facecolor(colors[i])\n",
    "\n",
    "plt.yscale('log')\n",
    "plt.grid(True, which='major', color='#DCDCDC')\n",
    "plt.xlabel(\"\", fontsize=20)\n",
    "plt.ylabel(\"Number of Files\", fontsize=20)\n",
    "plt.tight_layout()\n",
    "plt.savefig('img/FileTypes.pdf')\n",
    "plt.show()"
   ],
   "metadata": {
    "collapsed": false,
    "pycharm": {
     "name": "#%%\n"
    }
   }
  },
  {
   "cell_type": "markdown",
   "source": [
    "Fig 7c"
   ],
   "metadata": {
    "collapsed": false,
    "pycharm": {
     "name": "#%% md\n"
    }
   }
  },
  {
   "cell_type": "code",
   "execution_count": null,
   "outputs": [],
   "source": [
    "import numpy as np\n",
    "import matplotlib.pyplot as plt\n",
    "from matplotlib import rc\n",
    "import pandas as pd\n",
    "plt.style.use('classic')\n",
    "# y-axis in bold\n",
    "rc('font', weight='bold')\n",
    "# Values of each group\n",
    "dfBoxPlot = pd.ExcelFile(\"Dataset.xlsx\")\n",
    "dfBoxPlot.sheet_names\n",
    "\n",
    "dfBoxPlot2 = dfBoxPlot.parse('Fig7a-7c')\n",
    "dfBoxPlot2.columns\n",
    "\n",
    "import pandas as pd\n",
    "plt.style.use('classic')\n",
    "# y-axis in bold\n",
    "rc('font', weight='bold')\n",
    "# Values of each group\n",
    "bars1 = dfBoxPlot2['Java-U'].tolist()\n",
    "bars2 = dfBoxPlot2['Layout-U'].tolist()\n",
    "bars3 = dfBoxPlot2['Other_Res-U'].tolist()\n",
    "bars4 = dfBoxPlot2['manifest-U'].tolist()\n",
    "bars5 = dfBoxPlot2['Gradle-U'].tolist()\n",
    "bars6 = dfBoxPlot2['readme-U'].tolist()\n",
    "bars7 = dfBoxPlot2['others-U'].tolist()\n",
    "print(len(bars4)+1)\n",
    "# Heights of bars1 + bars2\n",
    "N= len(bars4)\n",
    "bars = np.add(bars1, bars2).tolist()\n",
    "\n",
    "# The position of the bars on the x-axis\n",
    "r = range(1,len(bars4)+1)\n",
    "\n",
    "# Names of group and bar width\n",
    "names = range(1,len(bars4)+1)\n",
    "barWidth = 1\n",
    "colors = [\"#e41a1c\",\"#377eb8\",\"#4daf4a\",\"#984ea3\", \"#ff7f00\", \"#ffff33\", \"#a65628\"]\n",
    "# Create brown bars\n",
    "plt.bar(r, bars1, color=colors[0], edgecolor='black', width=barWidth)\n",
    "# Create green bars (middle), on top of the firs ones\n",
    "plt.bar(r, bars2, bottom=bars1, color=colors[1], edgecolor='black', width=barWidth)\n",
    "# Create green bars (top)\n",
    "plt.bar(r, bars3, bottom=bars, color=colors[2], edgecolor='black', width=barWidth)\n",
    "\n",
    "bars = np.add(bars, bars3).tolist()\n",
    "plt.bar(r, bars4, bottom=bars, color=colors[3], edgecolor='black', width=barWidth)\n",
    "\n",
    "bars = np.add(bars, bars4).tolist()\n",
    "plt.bar(r, bars5, bottom=bars, color=colors[4], edgecolor='black', width=barWidth)\n",
    "\n",
    "bars = np.add(bars, bars5).tolist()\n",
    "plt.bar(r, bars6, bottom=bars, color=colors[5], edgecolor='black', width=barWidth)\n",
    "\n",
    "bars = np.add(bars, bars6).tolist()\n",
    "plt.bar(r, bars7, bottom=bars, color=colors[6], edgecolor='black', width=barWidth)\n",
    "\n",
    "colors = {'Java':colors[0], 'Layout':colors[1], 'Resources':colors[2], 'Manifest':colors[3], 'Gradle':colors[4], 'Readme':colors[5], 'Others':colors[6]}\n",
    "labels = list(colors.keys())\n",
    "handles = [plt.Rectangle((0,0),1,1, color=colors[label]) for label in labels]\n",
    "plt.legend(handles, labels)\n",
    "\n",
    "# Custom X axis\n",
    "# plt.xticks(r, names, fontweight='bold')\n",
    "plt.xlim(0,55)\n",
    "plt.ylim(0,1800)\n",
    "plt.xticks(np.arange(0, 55, 5))\n",
    "plt.xlabel(\"Fork variant app\", fontsize=20)\n",
    "plt.ylabel(\"Number of Files\", fontsize=20)\n",
    "# plt.minorticks_on()\n",
    "plt.grid(True, which='major', color='#2F4F4F')\n",
    "plt.grid(True, which='minor', color='#DCDCDC', linestyle='-')\n",
    "plt.tight_layout()\n",
    "plt.savefig('img/FilesTypes-Stacked.pdf')\n",
    "plt.show()"
   ],
   "metadata": {
    "collapsed": false,
    "pycharm": {
     "name": "#%%\n"
    }
   }
  },
  {
   "cell_type": "markdown",
   "source": [
    "Fig 8a"
   ],
   "metadata": {
    "collapsed": false,
    "pycharm": {
     "name": "#%% md\n"
    }
   }
  },
  {
   "cell_type": "code",
   "execution_count": null,
   "outputs": [],
   "source": [
    "import seaborn as sns\n",
    "\n",
    "dfBoxPlot = pd.ExcelFile(\"Dataset.xlsx\")\n",
    "\n",
    "dfBoxPlot.sheet_names\n",
    "\n",
    "dfBoxPlot = dfBoxPlot.parse('Fig8a-8c')\n",
    "dfBoxPlot.columns\n",
    "labels = ['Activities','Fragments','Providers','Services','Broadcast','Others']\n",
    "df1 = dfBoxPlot[['Activities','Fragments','Providers','Services','Broadcast','Others']]\n",
    "\n",
    "df1.columns = labels\n",
    "colors = [\"#e41a1c\",\"#377eb8\",\"#4daf4a\",\"#984ea3\", \"#ff7f00\", \"#ffff33\"]\n",
    "\n",
    "bplot = sns.boxplot(x=\"variable\", y=\"value\", data=pd.melt(df1), width=0.8)\n",
    "for i in range(0,6):\n",
    "    mybox = bplot.artists[i]\n",
    "    mybox.set_facecolor(colors[i])\n",
    "\n",
    "plt.yscale('log')\n",
    "plt.grid(True, which='major', color='#DCDCDC')\n",
    "plt.xlabel(\"\", fontsize=20)\n",
    "plt.ylabel(\"Number of Files\", fontsize=20)\n",
    "plt.tight_layout()\n",
    "plt.savefig('img/Components.pdf')\n",
    "plt.show()"
   ],
   "metadata": {
    "collapsed": false,
    "pycharm": {
     "name": "#%%\n"
    }
   }
  },
  {
   "cell_type": "markdown",
   "source": [
    "Fig 8b"
   ],
   "metadata": {
    "collapsed": false,
    "pycharm": {
     "name": "#%% md\n"
    }
   }
  },
  {
   "cell_type": "code",
   "execution_count": null,
   "outputs": [],
   "source": [
    "import seaborn as sns\n",
    "\n",
    "df = pd.ExcelFile(\"Dataset.xlsx\")\n",
    "df.sheet_names\n",
    "df = df.parse('Fig8b')\n",
    "df.columns\n",
    "\n",
    "labels = ['Added','Modified','Removed','Renamed']\n",
    "ax = (\n",
    "    df.set_index('Changed', append=True)  # set E as part of the index\n",
    "      .stack()                      # pull A - D into rows\n",
    "      .to_frame()                   # convert to a dataframe\n",
    "      .reset_index()                # make the index into reg. columns\n",
    "      .rename(columns={'level_2': 'quantity', 0: 'value'})  # rename columns\n",
    "      #.drop('level_0', axis='columns')   # drop junk columns\n",
    "      .pipe((sns.boxplot, 'data'), x='quantity', y='value', hue='Changed', hue_order=labels)\n",
    ")\n",
    "plt.yscale('log')\n",
    "plt.grid(True, which='major', color='#DCDCDC')\n",
    "plt.ylabel(\"Number of Files\", fontsize=20)\n",
    "plt.xlabel(\"\", fontsize=20)\n",
    "sns.despine(trim=True)\n",
    "# plt.ylim(0,1000)\n",
    "plt.tight_layout()\n",
    "plt.savefig('img/ComponentChanges.pdf')\n",
    "plt.show()"
   ],
   "metadata": {
    "collapsed": false,
    "pycharm": {
     "name": "#%%\n"
    }
   }
  },
  {
   "cell_type": "markdown",
   "source": [
    "Fig 8c"
   ],
   "metadata": {
    "collapsed": false,
    "pycharm": {
     "name": "#%% md\n"
    }
   }
  },
  {
   "cell_type": "code",
   "execution_count": null,
   "outputs": [],
   "source": [
    "import matplotlib.pyplot as plt\n",
    "from matplotlib import rc\n",
    "import pandas as pd\n",
    "plt.style.use('classic')\n",
    "# y-axis in bold\n",
    "rc('font', weight='bold')\n",
    "# Values of each group\n",
    "dfBoxPlot = pd.ExcelFile(\"Dataset.xlsx\")\n",
    "dfBoxPlot.sheet_names\n",
    "\n",
    "dfBoxPlot1 = dfBoxPlot.parse('Fig8a-8c')\n",
    "dfBoxPlot1.columns\n",
    "\n",
    "bars1 = dfBoxPlot1['Activities'].tolist()\n",
    "bars2 = dfBoxPlot1['Fragments'].tolist()\n",
    "bars3 = dfBoxPlot1['Providers'].tolist()\n",
    "bars4 = dfBoxPlot1['Services'].tolist()\n",
    "bars5 = dfBoxPlot1['Broadcast'].tolist()\n",
    "bars6 = dfBoxPlot1['Others'].tolist()\n",
    "print(len(bars4)+1)\n",
    "# Heights of bars1 + bars2\n",
    "N= len(bars4)\n",
    "bars = np.add(bars1, bars2).tolist()\n",
    "\n",
    "# The position of the bars on the x-axis\n",
    "r = range(1,len(bars4)+1)\n",
    "\n",
    "# Names of group and bar width\n",
    "names = range(1,len(bars4)+1)\n",
    "barWidth = 1\n",
    "colors = [\"#e41a1c\",\"#377eb8\",\"#4daf4a\",\"#984ea3\", \"#ff7f00\", \"#ffff33\", \"#a65628\"]\n",
    "# Create brown bars\n",
    "plt.bar(r, bars1, color=colors[0], edgecolor='black', width=barWidth)\n",
    "# Create green bars (middle), on top of the firs ones\n",
    "plt.bar(r, bars2, bottom=bars1, color=colors[1], edgecolor='black', width=barWidth)\n",
    "# Create green bars (top)\n",
    "plt.bar(r, bars3, bottom=bars, color=colors[2], edgecolor='black', width=barWidth)\n",
    "\n",
    "bars = np.add(bars, bars3).tolist()\n",
    "plt.bar(r, bars4, bottom=bars, color=colors[3], edgecolor='black', width=barWidth)\n",
    "\n",
    "bars = np.add(bars, bars4).tolist()\n",
    "plt.bar(r, bars5, bottom=bars, color=colors[4], edgecolor='black', width=barWidth)\n",
    "\n",
    "bars = np.add(bars, bars5).tolist()\n",
    "plt.bar(r, bars6, bottom=bars, color=colors[5], edgecolor='black', width=barWidth)\n",
    "\n",
    "# Custom X axis\n",
    "# plt.xticks(r, names, fontweight='bold')\n",
    "plt.xlim(0,55)\n",
    "plt.ylim(0,1050)\n",
    "plt.xticks(np.arange(0, 55, 5))\n",
    "plt.xlabel(\"Fork variant app\", fontsize=20)\n",
    "plt.ylabel(\"Number of Files\", fontsize=20)\n",
    "\n",
    "colors = {'Activities':colors[0], 'Fragments':colors[1], 'Providers':colors[2], 'Services':colors[3], 'Broadcast':colors[4], 'Others':colors[5]}\n",
    "labels = list(colors.keys())\n",
    "handles = [plt.Rectangle((0,0),1,1, color=colors[label]) for label in labels]\n",
    "plt.legend(handles, labels)\n",
    "# plt.minorticks_on()\n",
    "plt.grid(True, which='major', color='#2F4F4F')\n",
    "plt.grid(True, which='minor', color='#DCDCDC', linestyle='-')\n",
    "plt.tight_layout()\n",
    "plt.savefig('img/Components-Stacked.pdf')\n",
    "plt.show()"
   ],
   "metadata": {
    "collapsed": false,
    "pycharm": {
     "name": "#%%\n"
    }
   }
  },
  {
   "cell_type": "markdown",
   "source": [
    "Fig 9"
   ],
   "metadata": {
    "collapsed": false,
    "pycharm": {
     "name": "#%% md\n"
    }
   }
  },
  {
   "cell_type": "code",
   "execution_count": null,
   "outputs": [],
   "source": [
    "plt.style.use('classic')\n",
    "df = pd.ExcelFile(\"Dataset.xlsx\")\n",
    "df.sheet_names\n",
    "df = df.parse('Fig9')\n",
    "df.columns\n",
    "\n",
    "y1 = df['CherryMlV']\n",
    "y2 = df['CherryFV']\n",
    "bins = [0, 10, 20, 30, 40, 50, 60, 70, 80, 90, 100, 110, 120, 130, 140, 150, 160, 170]\n",
    "plt.hist((y1,y2), bins=bins, edgecolor='b', label=('gitCherrypickedMLV->FV','gitCherrypickedFV->MLV' ), color=('#0000CD', '#DC143C'))\n",
    "plt.xlim(0,170)\n",
    "plt.grid(True)\n",
    "plt.legend()\n",
    "plt.ylabel('Number of Mainline-Fork pairs', fontsize=18)\n",
    "plt.xlabel('Number of Cherry-picked Commits', fontsize=18)\n",
    "plt.yticks(np.arange(0, 66, 10))\n",
    "# plt.yscale('log')\n",
    "# plt.xticks((0.25, 0.75), (0, 1))\n",
    "plt.tight_layout()\n",
    "plt.savefig('img/gitCherrypick.pdf')"
   ],
   "metadata": {
    "collapsed": false,
    "pycharm": {
     "name": "#%%\n"
    }
   }
  },
  {
   "cell_type": "markdown",
   "source": [
    "Fig 10"
   ],
   "metadata": {
    "collapsed": false,
    "pycharm": {
     "name": "#%% md\n"
    }
   }
  },
  {
   "cell_type": "code",
   "execution_count": null,
   "outputs": [],
   "source": [
    "df = pd.ExcelFile(\"Dataset.xlsx\")\n",
    "df.sheet_names\n",
    "\n",
    "df = df.parse(\"Fig10\")\n",
    "df.columns\n",
    "\n",
    "plt.style.use('classic')\n",
    "x2 = range(1,len(df['MLV'])+1)\n",
    "y1 = df['gitPullMlv_Fv']+0.1\n",
    "\n",
    "plt.boxplot(y1, widths=0.4, patch_artist=True, boxprops=dict(facecolor='#008080'))\n",
    "plt.yscale('log')\n",
    "plt.ylim(0.11,2000)\n",
    "# plt.xscale('log')\n",
    "plt.grid(True)\n",
    "plt.xlabel('Git Merge/Rebase', fontsize=18)\n",
    "plt.ylabel('Number of Commits', fontsize=18)\n",
    "plt.xticks([1], [''])\n",
    "plt.show()\n",
    "plt.savefig('img/gitPull.pdf')"
   ],
   "metadata": {
    "collapsed": false,
    "pycharm": {
     "name": "#%%\n"
    }
   }
  },
  {
   "cell_type": "markdown",
   "source": [
    "Fig 11"
   ],
   "metadata": {
    "collapsed": false,
    "pycharm": {
     "name": "#%% md\n"
    }
   }
  },
  {
   "cell_type": "code",
   "execution_count": null,
   "outputs": [],
   "source": [
    "plt.style.use('classic')\n",
    "df = pd.ExcelFile(\"Dataset.xlsx\")\n",
    "df.sheet_names\n",
    "\n",
    "df = df.parse(\"Fig11\")\n",
    "df.columns\n",
    "\n",
    "y1 = df['VariabilityPercentage']\n",
    "fig, ax = plt.subplots()\n",
    "# ax.set_yscale('log', basey=2)\n",
    "bins = [0, 10, 20, 30, 40, 50, 60, 70, 80, 90, 100]\n",
    "plt.hist(y1, bins=bins, edgecolor='black', label='Variability Percentage', color='#6A5ACD')\n",
    "plt.xlim(0,100)\n",
    "plt.minorticks_on()\n",
    "plt.grid(True, which='major', color='#2F4F4F')\n",
    "plt.grid(True, which='minor', color='#DCDCDC')\n",
    "\n",
    "median = 2.1\n",
    "color = '#8B0000'\n",
    "plt.axvline(median, color=color, label = 'Median', linewidth=3)\n",
    "plt.ylabel('Number of Mainline-Fork pairs', fontsize=18)\n",
    "plt.xlabel('Fork Variability Percentage', fontsize=18)\n",
    "plt.yticks(np.arange(0, 50, 10))\n",
    "plt.xticks(np.arange(0, 101, 10))\n",
    "plt.legend()\n",
    "plt.tight_layout()\n",
    "plt.savefig('img/variability.pdf')\n",
    "plt.show()\n",
    "\n",
    "y1 = y1.sort_values()\n",
    "x1 = range(1,len(df['VariabilityPercentage'])+1)\n",
    "plt.plot(x1, y1, color='#6A5ACD', linewidth=2, marker='o', label='Variability Percentage')\n",
    "plt.xlim(0,55)\n",
    "plt.ylim(0,100)\n",
    "plt.axhline(median, color=color, label = 'Median', linewidth=2)\n",
    "plt.yticks(np.arange(0, 100, 10))\n",
    "plt.xlabel('Fork variant', fontsize=20)\n",
    "plt.ylabel('Variability Percentage', fontsize=20)\n",
    "plt.legend(fontsize=20, loc=\"upper left\")\n",
    "plt.grid(True, which='major', color='#2F4F4F')\n",
    "plt.grid(True, which='minor', color='#DCDCDC', linestyle='-')\n",
    "plt.tight_layout()\n",
    "plt.savefig('img/variability1.pdf')\n",
    "plt.show()\n"
   ],
   "metadata": {
    "collapsed": false,
    "pycharm": {
     "name": "#%%\n"
    }
   }
  }
 ],
 "metadata": {
  "kernelspec": {
   "display_name": "Python 3",
   "language": "python",
   "name": "python3"
  },
  "language_info": {
   "codemirror_mode": {
    "name": "ipython",
    "version": 2
   },
   "file_extension": ".py",
   "mimetype": "text/x-python",
   "name": "python",
   "nbconvert_exporter": "python",
   "pygments_lexer": "ipython2",
   "version": "2.7.6"
  }
 },
 "nbformat": 4,
 "nbformat_minor": 0
}